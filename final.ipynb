{
 "cells": [
  {
   "cell_type": "markdown",
   "id": "3bd23fd0",
   "metadata": {},
   "source": [
    "------------------\n",
    " ## Suicide Sentiment Analysis Project \n",
    " - Using TF-IDF As Feature Extraction\n",
    " - Using Some Classification models As RandomForest, LinearSVC, MultinomialNB\n",
    " - Using Some Preprocessing as Lemmatization, Removing Stop Words\n",
    " - Finally,  The best Results in this notebook is 91%.\n",
    "----------------"
   ]
  },
  {
   "cell_type": "code",
   "execution_count": 1,
   "id": "758e5e83",
   "metadata": {},
   "outputs": [],
   "source": [
    "import pandas as pd\n",
    "import numpy as np \n",
    "from sklearn.feature_extraction.text import TfidfVectorizer\n",
    "from sklearn.feature_extraction.text import CountVectorizer\n",
    "from sklearn.feature_extraction.text import TfidfTransformer\n",
    "from sklearn import metrics\n",
    "import nltk\n",
    "import re\n",
    "import string\n",
    "from nltk.stem import WordNetLemmatizer\n",
    "from sklearn.model_selection import train_test_split\n",
    "from sklearn.ensemble import RandomForestClassifier\n",
    "from sklearn.metrics import accuracy_score, recall_score\n",
    "from sklearn.preprocessing import MinMaxScaler\n",
    "from sklearn.naive_bayes import MultinomialNB\n",
    "from sklearn.svm import SVC\n",
    "from sklearn.svm import LinearSVC\n",
    "from sklearn import metrics"
   ]
  },
  {
   "cell_type": "markdown",
   "id": "6e9d869b",
   "metadata": {},
   "source": [
    "## Read Suicide_Detection File"
   ]
  },
  {
   "cell_type": "code",
   "execution_count": 2,
   "id": "631012bd",
   "metadata": {},
   "outputs": [],
   "source": [
    "Suicide = pd.read_csv('Suicide_Detection.csv')\n",
    "data_split = np.array_split(Suicide, 20)\n",
    "Suicide = data_split[0]\n",
    "Suicide = Suicide.drop('Unnamed: 0',axis=1)"
   ]
  },
  {
   "cell_type": "markdown",
   "id": "800780a5",
   "metadata": {},
   "source": [
    "## Preparing For Stopword removal and lemmatization"
   ]
  },
  {
   "cell_type": "code",
   "execution_count": 3,
   "id": "c6c3e3e4",
   "metadata": {},
   "outputs": [
    {
     "name": "stderr",
     "output_type": "stream",
     "text": [
      "[nltk_data] Downloading package stopwords to /home/saied/nltk_data...\n",
      "[nltk_data]   Package stopwords is already up-to-date!\n"
     ]
    }
   ],
   "source": [
    "nltk.download('stopwords')\n",
    "stopwords = nltk.corpus.stopwords.words('english')\n",
    "lemmatizer = WordNetLemmatizer()"
   ]
  },
  {
   "cell_type": "code",
   "execution_count": 4,
   "id": "27d01e15",
   "metadata": {},
   "outputs": [],
   "source": [
    "X = Suicide.drop('class', axis=1)\n",
    "y = Suicide['class']"
   ]
  },
  {
   "cell_type": "markdown",
   "id": "ca734e9f",
   "metadata": {},
   "source": [
    "# Text Pre Proceessing"
   ]
  },
  {
   "cell_type": "code",
   "execution_count": 5,
   "id": "2b3f534d",
   "metadata": {},
   "outputs": [],
   "source": [
    "# To remove emails\n",
    "email_regex = r'([a-zA-Z0-9_.+-]+@[a-zA-Z0-9-]+\\.[a-zA-Z0-9-.]+)'\n",
    "regexes_to_remove = [email_regex, r'Subject:', r'Re:']\n",
    "\n",
    "for i in range(0, len(X)):\n",
    "    # removing all special charachter\n",
    "    review = re.sub('[^a-zA-Z]', ' ', str(X['text'][i]))\n",
    "    # make document as lowerCase\n",
    "    review = review.lower()\n",
    "    # splitting the documents into words for ex ['iam', 'omar']\n",
    "    review = review.split()\n",
    "    # make limmatization --> (change, changing, changes)---> (change)\n",
    "    review = [lemmatizer.lemmatize(word) for word in review if not word in set(stopwords)]\n",
    "    # join the document agian\n",
    "    review = ' '.join(review)\n",
    "    \n",
    "    # removing mails\n",
    "    for r in regexes_to_remove:\n",
    "        X['text'][i] = re.sub(r, '', review)\n"
   ]
  },
  {
   "cell_type": "markdown",
   "id": "1776a926",
   "metadata": {},
   "source": [
    "<a id='another_cell'></a>\n",
    "### -ttttttttt"
   ]
  },
  {
   "cell_type": "markdown",
   "id": "ab79ef10",
   "metadata": {},
   "source": [
    "[TF-IDF ](#another_cell)"
   ]
  },
  {
   "cell_type": "markdown",
   "id": "2b1de76d",
   "metadata": {},
   "source": [
    "## Splitting Data"
   ]
  },
  {
   "cell_type": "code",
   "execution_count": 6,
   "id": "d2b883ac",
   "metadata": {},
   "outputs": [],
   "source": [
    "X_train, X_test, y_train, y_test = train_test_split(X, y, test_size=0.3)"
   ]
  },
  {
   "cell_type": "markdown",
   "id": "0101ce49",
   "metadata": {},
   "source": [
    "## Feature extraction"
   ]
  },
  {
   "cell_type": "markdown",
   "id": "7a18013c",
   "metadata": {},
   "source": [
    "- ### TF-IDF"
   ]
  },
  {
   "cell_type": "code",
   "execution_count": 7,
   "id": "a785d07f",
   "metadata": {},
   "outputs": [],
   "source": [
    "tfidf_vectorizer = TfidfVectorizer(max_features=10000)\n",
    "tfidf_vectorizer_n12 = TfidfVectorizer(max_features=10000, ngram_range=(1,2))\n",
    "\n",
    "\n",
    "X_tfidf_train = tfidf_vectorizer.fit_transform(X_train['text'])\n",
    "X_tfidf_test = tfidf_vectorizer.transform(X_test['text'])\n",
    "\n",
    "X_tfidf_train_n12= tfidf_vectorizer_n12.fit_transform(X_train['text'])\n",
    "X_tfidf_test_n12=tfidf_vectorizer_n12.fit_transform(X_test['text'])"
   ]
  },
  {
   "cell_type": "code",
   "execution_count": 8,
   "id": "39928e9a",
   "metadata": {},
   "outputs": [
    {
     "name": "stdout",
     "output_type": "stream",
     "text": [
      "(8122, 10000)\n"
     ]
    }
   ],
   "source": [
    "print(X_tfidf_train.shape)"
   ]
  },
  {
   "cell_type": "markdown",
   "id": "38ddaf19",
   "metadata": {},
   "source": [
    "## Feature Scaling"
   ]
  },
  {
   "cell_type": "markdown",
   "id": "17ffa13b",
   "metadata": {},
   "source": [
    "---------------\n",
    "- As we see the no. of features very large so we need to make feature selection and feature scaling\n",
    "------------"
   ]
  },
  {
   "cell_type": "markdown",
   "id": "ade8f936",
   "metadata": {},
   "source": [
    "## Feature Selection"
   ]
  },
  {
   "cell_type": "code",
   "execution_count": 9,
   "id": "7808061b",
   "metadata": {},
   "outputs": [
    {
     "name": "stderr",
     "output_type": "stream",
     "text": [
      "/home/saied/.local/lib/python3.9/site-packages/sklearn/svm/_base.py:1206: ConvergenceWarning: Liblinear failed to converge, increase the number of iterations.\n",
      "  warnings.warn(\n",
      "/home/saied/.local/lib/python3.9/site-packages/sklearn/svm/_base.py:1206: ConvergenceWarning: Liblinear failed to converge, increase the number of iterations.\n",
      "  warnings.warn(\n"
     ]
    }
   ],
   "source": [
    "from sklearn.svm import LinearSVC\n",
    "from sklearn.feature_selection import SelectFromModel\n",
    "\n",
    "# We Can select any model but linearSVC has l1 norm penality which deals with sparse\n",
    "lsvc = LinearSVC(C=100, penalty='l1', max_iter=500, dual=False)\n",
    "lsvc.fit(X_tfidf_train, y_train)\n",
    "\n",
    "# This function select the best features that has high weigh\n",
    "fs = SelectFromModel(lsvc, prefit=True)\n",
    "# This function redeuce X to the selected features\n",
    "X_selection = fs.transform(X_tfidf_train)\n",
    "X_test_selection = fs.transform(X_tfidf_test)\n",
    "\n",
    "\n",
    "lsvc.fit(X_tfidf_train_n12, y_train)\n",
    "fs_n12 = SelectFromModel(lsvc, prefit=True)\n",
    "X_selection_n12 = fs_n12.transform(X_tfidf_train_n12)\n",
    "X_test_selection_n12 = fs_n12.transform(X_tfidf_test_n12)\n"
   ]
  },
  {
   "cell_type": "markdown",
   "id": "bc96af4c",
   "metadata": {},
   "source": [
    "##  Using LinearSVC"
   ]
  },
  {
   "cell_type": "code",
   "execution_count": 10,
   "id": "00aa04da",
   "metadata": {},
   "outputs": [
    {
     "name": "stderr",
     "output_type": "stream",
     "text": [
      "/home/saied/.local/lib/python3.9/site-packages/sklearn/svm/_base.py:1206: ConvergenceWarning: Liblinear failed to converge, increase the number of iterations.\n",
      "  warnings.warn(\n",
      "/home/saied/.local/lib/python3.9/site-packages/sklearn/svm/_base.py:1206: ConvergenceWarning: Liblinear failed to converge, increase the number of iterations.\n",
      "  warnings.warn(\n"
     ]
    }
   ],
   "source": [
    "lsvc = LinearSVC(C=1000, penalty='l1', max_iter=500, dual=False)\n",
    "lsvc.fit(X_selection, y_train)\n",
    "y_predict = lsvc.predict(X_test_selection)\n",
    "\n",
    "lsvc_n12 = LinearSVC(C=1000, penalty='l1', max_iter=500, dual=False)\n",
    "lsvc_n12.fit(X_selection_n12,y_train)\n",
    "y_predict_n12 = lsvc_n12.predict(X_test_selection_n12)\n",
    "# print(metrics.classification_report(y_test, y_predict_1, target_names=['Suicide', 'Non-Suicide']))\n",
    "linear_svm_tfidf_results=metrics.precision_recall_fscore_support(y_test, y_predict)\n",
    "linear_svm_tfidf_n12_results=metrics.precision_recall_fscore_support(y_test, y_predict_n12)"
   ]
  },
  {
   "cell_type": "code",
   "execution_count": 11,
   "id": "b685f44f",
   "metadata": {},
   "outputs": [
    {
     "name": "stdout",
     "output_type": "stream",
     "text": [
      "              precision    recall  f1-score   support\n",
      "\n",
      "     Suicide       0.87      0.85      0.86      1756\n",
      " Non-Suicide       0.85      0.87      0.86      1726\n",
      "\n",
      "    accuracy                           0.86      3482\n",
      "   macro avg       0.86      0.86      0.86      3482\n",
      "weighted avg       0.86      0.86      0.86      3482\n",
      "\n"
     ]
    }
   ],
   "source": [
    " print(metrics.classification_report(y_test, y_predict, target_names=['Suicide', 'Non-Suicide']))"
   ]
  },
  {
   "cell_type": "code",
   "execution_count": 12,
   "id": "5ead464b",
   "metadata": {},
   "outputs": [
    {
     "data": {
      "text/plain": [
       "(array([0.51930502, 0.53923767]),\n",
       " array([0.76594533, 0.27867903]),\n",
       " array([0.61895996, 0.36745607]),\n",
       " array([1756, 1726]))"
      ]
     },
     "execution_count": 12,
     "metadata": {},
     "output_type": "execute_result"
    }
   ],
   "source": [
    "linear_svm_tfidf_n12_results"
   ]
  },
  {
   "cell_type": "markdown",
   "id": "e7684383",
   "metadata": {},
   "source": [
    "## Using RandomForest"
   ]
  },
  {
   "cell_type": "code",
   "execution_count": 13,
   "id": "2b1d3843",
   "metadata": {},
   "outputs": [],
   "source": [
    "clf = RandomForestClassifier(max_depth=10)\n",
    "clf.fit(X_selection, y_train)\n",
    "y_predict_2 = clf.predict(X_test_selection)\n",
    "\n",
    "clf.fit(X_selection_n12, y_train)\n",
    "y_predict_n12_2 = clf.predict(X_test_selection_n12)"
   ]
  },
  {
   "cell_type": "code",
   "execution_count": 14,
   "id": "8c4b3544",
   "metadata": {},
   "outputs": [
    {
     "name": "stdout",
     "output_type": "stream",
     "text": [
      "              precision    recall  f1-score   support\n",
      "\n",
      "     Suicide       0.80      0.89      0.84      1756\n",
      " Non-Suicide       0.88      0.77      0.82      1726\n",
      "\n",
      "    accuracy                           0.83      3482\n",
      "   macro avg       0.84      0.83      0.83      3482\n",
      "weighted avg       0.84      0.83      0.83      3482\n",
      "\n"
     ]
    }
   ],
   "source": [
    "RandomForest_tfidf_results=metrics.precision_recall_fscore_support(y_test, y_predict)\n",
    "RandomForest_tfidf_n12_results=metrics.precision_recall_fscore_support(y_test, y_predict_n12)\n",
    "print(metrics.classification_report(y_test, y_predict_2, target_names=['Suicide', 'Non-Suicide']))"
   ]
  },
  {
   "cell_type": "code",
   "execution_count": 15,
   "id": "3225e7d3",
   "metadata": {},
   "outputs": [
    {
     "data": {
      "text/plain": [
       "(array([0.51930502, 0.53923767]),\n",
       " array([0.76594533, 0.27867903]),\n",
       " array([0.61895996, 0.36745607]),\n",
       " array([1756, 1726]))"
      ]
     },
     "execution_count": 15,
     "metadata": {},
     "output_type": "execute_result"
    }
   ],
   "source": [
    "RandomForest_tfidf_n12_results"
   ]
  },
  {
   "cell_type": "markdown",
   "id": "f8b6dc68",
   "metadata": {},
   "source": [
    "## Using Multinomial Naive Bayes"
   ]
  },
  {
   "cell_type": "code",
   "execution_count": 19,
   "id": "cea77e1c",
   "metadata": {},
   "outputs": [
    {
     "name": "stdout",
     "output_type": "stream",
     "text": [
      "              precision    recall  f1-score   support\n",
      "\n",
      "     Suicide       0.94      0.81      0.87      1756\n",
      " Non-Suicide       0.83      0.95      0.88      1726\n",
      "\n",
      "    accuracy                           0.88      3482\n",
      "   macro avg       0.89      0.88      0.88      3482\n",
      "weighted avg       0.89      0.88      0.88      3482\n",
      "\n"
     ]
    }
   ],
   "source": [
    "mb = MultinomialNB()\n",
    "mb.fit(X_selection, y_train)\n",
    "y_predict_3 = mb.predict(X_test_selection)\n",
    "\n",
    "mb.fit(X_selection_n12, y_train)\n",
    "y_predict_n12_3 = mb.predict(X_test_selection_n12)\n",
    "print(metrics.classification_report(y_test, y_predict_3, target_names=['Suicide', 'Non-Suicide']))\n",
    "\n",
    "mb_tfidf_results=metrics.precision_recall_fscore_support(y_test, y_predict)\n",
    "mb_tfidf_n12_results=metrics.precision_recall_fscore_support(y_test, y_predict_n12)"
   ]
  },
  {
   "cell_type": "code",
   "execution_count": 20,
   "id": "a5d205bb",
   "metadata": {},
   "outputs": [
    {
     "data": {
      "text/plain": [
       "(array([0.51930502, 0.53923767]),\n",
       " array([0.76594533, 0.27867903]),\n",
       " array([0.61895996, 0.36745607]),\n",
       " array([1756, 1726]))"
      ]
     },
     "execution_count": 20,
     "metadata": {},
     "output_type": "execute_result"
    }
   ],
   "source": [
    "mb_tfidf_n12_results"
   ]
  },
  {
   "cell_type": "markdown",
   "id": "3cc614a3",
   "metadata": {},
   "source": [
    "## Using Ensamble Learning "
   ]
  },
  {
   "cell_type": "code",
   "execution_count": 21,
   "id": "bb2670d5",
   "metadata": {},
   "outputs": [],
   "source": [
    "from sklearn.ensemble import RandomForestClassifier\n",
    "from sklearn.ensemble import VotingClassifier\n",
    "from sklearn.linear_model import LogisticRegression,  SGDClassifier\n",
    "from sklearn.svm import SVC"
   ]
  },
  {
   "cell_type": "code",
   "execution_count": 22,
   "id": "b9f910cd",
   "metadata": {},
   "outputs": [],
   "source": [
    "log_clf = LogisticRegression(solver=\"lbfgs\")\n",
    "rnd_clf = RandomForestClassifier(n_estimators=100)\n",
    "svm_clf = SVC(gamma=\"scale\", probability=True)\n",
    "mb = MultinomialNB()\n",
    "sgd = SGDClassifier(alpha=.0001, max_iter=50, loss='log',\n",
    "                                       penalty=\"elasticnet\", n_jobs=-1)\n",
    "\n",
    "voting_clf = VotingClassifier(\n",
    "estimators=[('lr', log_clf), ('rf', rnd_clf), ('svc', svm_clf), ('mb', mb),('sgd', sgd)],\n",
    "voting='soft')\n",
    "\n"
   ]
  },
  {
   "cell_type": "code",
   "execution_count": 23,
   "id": "a58f3c2a",
   "metadata": {},
   "outputs": [],
   "source": [
    "voting_clf.fit(X_selection, y_train)\n",
    "y_predict_4 = voting_clf.predict(X_test_selection)\n",
    "\n",
    "voting_clf.fit(X_selection_n12, y_train)\n",
    "y_predict_n12_4 = voting_clf.predict(X_test_selection_n12)"
   ]
  },
  {
   "cell_type": "code",
   "execution_count": 24,
   "id": "20d29bb2",
   "metadata": {},
   "outputs": [
    {
     "name": "stdout",
     "output_type": "stream",
     "text": [
      "              precision    recall  f1-score   support\n",
      "\n",
      "     Suicide       0.91      0.92      0.91      1756\n",
      " Non-Suicide       0.92      0.90      0.91      1726\n",
      "\n",
      "    accuracy                           0.91      3482\n",
      "   macro avg       0.91      0.91      0.91      3482\n",
      "weighted avg       0.91      0.91      0.91      3482\n",
      "\n"
     ]
    }
   ],
   "source": [
    "print(metrics.classification_report(y_test, y_predict_4, target_names=['Suicide', 'Non-Suicide']))\n",
    "mb_tfidf_results=metrics.precision_recall_fscore_support(y_test, y_predict_4)\n",
    "mb_tfidf_n12_results=metrics.precision_recall_fscore_support(y_test, y_predict_n12_4)"
   ]
  },
  {
   "cell_type": "code",
   "execution_count": 25,
   "id": "ed4e1763",
   "metadata": {},
   "outputs": [
    {
     "data": {
      "text/plain": [
       "(array([0.50522952, 0.575     ]),\n",
       " array([0.99031891, 0.01332561]),\n",
       " array([0.6691035 , 0.02604757]),\n",
       " array([1756, 1726]))"
      ]
     },
     "execution_count": 25,
     "metadata": {},
     "output_type": "execute_result"
    }
   ],
   "source": [
    "mb_tfidf_n12_results"
   ]
  },
  {
   "cell_type": "markdown",
   "id": "b65fb5a9",
   "metadata": {},
   "source": [
    "## Using Bagging Method"
   ]
  },
  {
   "cell_type": "code",
   "execution_count": 26,
   "id": "3a7b423e",
   "metadata": {},
   "outputs": [
    {
     "name": "stdout",
     "output_type": "stream",
     "text": [
      "              precision    recall  f1-score   support\n",
      "\n",
      "     Suicide       0.80      0.87      0.83      1756\n",
      " Non-Suicide       0.85      0.78      0.82      1726\n",
      "\n",
      "    accuracy                           0.82      3482\n",
      "   macro avg       0.83      0.82      0.82      3482\n",
      "weighted avg       0.83      0.82      0.82      3482\n",
      "\n"
     ]
    }
   ],
   "source": [
    "from sklearn.ensemble import BaggingClassifier\n",
    "from sklearn.tree import DecisionTreeClassifier\n",
    "bag_clf = BaggingClassifier(\n",
    "DecisionTreeClassifier(), n_estimators=500,\n",
    "max_samples=100, bootstrap=True, n_jobs=-1)\n",
    "bag_clf.fit(X_selection, y_train)\n",
    "y_pred_5 = bag_clf.predict(X_test_selection)\n",
    "\n",
    "bag_clf.fit(X_selection_n12, y_train)\n",
    "y_pred_n12_5 = bag_clf.predict(X_test_selection_n12)\n",
    "print(metrics.classification_report(y_test, y_pred_5, target_names=['Suicide', 'Non-Suicide']))"
   ]
  },
  {
   "cell_type": "code",
   "execution_count": 28,
   "id": "d23b722c",
   "metadata": {},
   "outputs": [],
   "source": [
    "bag_tfidf_results=metrics.precision_recall_fscore_support(y_test, y_pred_5)\n",
    "bag_tfidf_n12_results=metrics.precision_recall_fscore_support(y_test, y_pred_n12_5)"
   ]
  },
  {
   "cell_type": "code",
   "execution_count": null,
   "id": "f36d50e2",
   "metadata": {},
   "outputs": [],
   "source": []
  }
 ],
 "metadata": {
  "kernelspec": {
   "display_name": "Python 3 (ipykernel)",
   "language": "python",
   "name": "python3"
  },
  "language_info": {
   "codemirror_mode": {
    "name": "ipython",
    "version": 3
   },
   "file_extension": ".py",
   "mimetype": "text/x-python",
   "name": "python",
   "nbconvert_exporter": "python",
   "pygments_lexer": "ipython3",
   "version": "3.9.10"
  }
 },
 "nbformat": 4,
 "nbformat_minor": 5
}
