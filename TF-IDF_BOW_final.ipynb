{
 "cells": [
  {
   "cell_type": "markdown",
   "id": "3bd23fd0",
   "metadata": {},
   "source": [
    "------------------\n",
    " ## Suicide Sentiment Analysis Project \n",
    " - Using TF-IDF As Feature Extraction\n",
    " - Using Some Classification models As RandomForest, LinearSVC, MultinomialNB\n",
    " - Using Some Preprocessing as Lemmatization, Removing Stop Words\n",
    " - Finally,  The best Results in this notebook is 91%.\n",
    "----------------"
   ]
  },
  {
   "cell_type": "code",
   "execution_count": 2,
   "id": "758e5e83",
   "metadata": {},
   "outputs": [
    {
     "name": "stderr",
     "output_type": "stream",
     "text": [
      "[nltk_data] Downloading package vader_lexicon to\n",
      "[nltk_data]     /home/saied/nltk_data...\n",
      "[nltk_data]   Package vader_lexicon is already up-to-date!\n"
     ]
    }
   ],
   "source": [
    "import pandas as pd\n",
    "import numpy as np \n",
    "from tabulate import tabulate\n",
    "from sklearn.feature_extraction.text import TfidfVectorizer\n",
    "from sklearn.feature_extraction.text import CountVectorizer\n",
    "from sklearn.feature_extraction.text import TfidfTransformer\n",
    "from sklearn import metrics\n",
    "import nltk\n",
    "import re\n",
    "import string\n",
    "from nltk.stem import WordNetLemmatizer\n",
    "from sklearn.model_selection import train_test_split\n",
    "from sklearn.ensemble import RandomForestClassifier\n",
    "from sklearn.metrics import accuracy_score, recall_score\n",
    "from sklearn.preprocessing import MinMaxScaler\n",
    "from sklearn.naive_bayes import MultinomialNB\n",
    "from sklearn.svm import SVC\n",
    "from sklearn.svm import LinearSVC\n",
    "from sklearn import metrics\n",
    "nltk.download('vader_lexicon')\n",
    "import neattext.functions as nfx\n",
    "import warnings\n",
    "warnings.filterwarnings('ignore')"
   ]
  },
  {
   "cell_type": "markdown",
   "id": "6e9d869b",
   "metadata": {},
   "source": [
    "## Read Suicide_Detection File"
   ]
  },
  {
   "cell_type": "code",
   "execution_count": 3,
   "id": "631012bd",
   "metadata": {},
   "outputs": [],
   "source": [
    "Suicide = pd.read_csv('Suicide_Detection.csv')\n",
    "data_split = np.array_split(Suicide, 20)\n",
    "Suicide = data_split[0]\n",
    "Suicide = Suicide.drop('Unnamed: 0',axis=1)"
   ]
  },
  {
   "cell_type": "markdown",
   "id": "800780a5",
   "metadata": {},
   "source": [
    "## Preparing For Stopword removal and lemmatization"
   ]
  },
  {
   "cell_type": "code",
   "execution_count": 4,
   "id": "c6c3e3e4",
   "metadata": {},
   "outputs": [
    {
     "name": "stderr",
     "output_type": "stream",
     "text": [
      "[nltk_data] Downloading package stopwords to /home/saied/nltk_data...\n",
      "[nltk_data]   Package stopwords is already up-to-date!\n"
     ]
    }
   ],
   "source": [
    "nltk.download('stopwords')\n",
    "stopwords = nltk.corpus.stopwords.words('english')\n",
    "lemmatizer = WordNetLemmatizer()"
   ]
  },
  {
   "cell_type": "code",
   "execution_count": 5,
   "id": "27d01e15",
   "metadata": {},
   "outputs": [],
   "source": [
    "X = Suicide.drop('class', axis=1)\n",
    "y = Suicide['class']\n"
   ]
  },
  {
   "cell_type": "markdown",
   "id": "ca734e9f",
   "metadata": {},
   "source": [
    "# Text Pre Proceessing"
   ]
  },
  {
   "cell_type": "code",
   "execution_count": 6,
   "id": "2b3f534d",
   "metadata": {},
   "outputs": [],
   "source": [
    "# To remove emails\n",
    "email_regex = r'([a-zA-Z0-9_.+-]+@[a-zA-Z0-9-]+\\.[a-zA-Z0-9-.]+)'\n",
    "regexes_to_remove = [email_regex, r'Subject:', r'Re:']\n",
    "\n",
    "for i in range(0, len(X)):\n",
    "    # removing all special charachter\n",
    "    review = re.sub('[^a-zA-Z]', ' ', str(X['text'][i]))\n",
    "    # make document as lowerCase\n",
    "    review = review.lower()\n",
    "    # splitting the documents into words for ex ['iam', 'omar']\n",
    "    review = review.split()\n",
    "    # make limmatization --> (change, changing, changes)---> (change)\n",
    "    review = [lemmatizer.lemmatize(word) for word in review if not word in set(stopwords)]\n",
    "    # join the document agian\n",
    "    review = ' '.join(review)\n",
    "    \n",
    "    # removing mails\n",
    "    for r in regexes_to_remove:\n",
    "        X['text'][i] = re.sub(r, '', review)\n"
   ]
  },
  {
   "cell_type": "markdown",
   "id": "2b1de76d",
   "metadata": {},
   "source": [
    "## Data Splitting "
   ]
  },
  {
   "cell_type": "code",
   "execution_count": 7,
   "id": "d2b883ac",
   "metadata": {},
   "outputs": [],
   "source": [
    "X_train, X_test, y_train, y_test = train_test_split(X, y, test_size=0.3)"
   ]
  },
  {
   "cell_type": "markdown",
   "id": "0101ce49",
   "metadata": {},
   "source": [
    "## Feature extraction"
   ]
  },
  {
   "cell_type": "markdown",
   "id": "7a18013c",
   "metadata": {},
   "source": [
    "- ### TF-IDF"
   ]
  },
  {
   "cell_type": "code",
   "execution_count": 8,
   "id": "a785d07f",
   "metadata": {},
   "outputs": [],
   "source": [
    "tfidf_vectorizer = TfidfVectorizer(max_features=10000)\n",
    "tfidf_vectorizer_n12 = TfidfVectorizer(max_features=10000, ngram_range=(1,2))\n",
    "\n",
    "\n",
    "X_tfidf_train = tfidf_vectorizer.fit_transform(X_train['text'])\n",
    "X_tfidf_test = tfidf_vectorizer.transform(X_test['text'])\n",
    "\n",
    "X_tfidf_train_n12= tfidf_vectorizer_n12.fit_transform(X_train['text'])\n",
    "X_tfidf_test_n12=tfidf_vectorizer_n12.transform(X_test['text'])"
   ]
  },
  {
   "cell_type": "markdown",
   "id": "fbf079ff",
   "metadata": {},
   "source": [
    " - ### Bag of wards "
   ]
  },
  {
   "cell_type": "code",
   "execution_count": 9,
   "id": "e8be2335",
   "metadata": {},
   "outputs": [],
   "source": [
    "vectorizer = CountVectorizer()\n",
    "  \n",
    "X_bow_train = vectorizer.fit_transform(X_train['text'])\n",
    "X_bow_test = vectorizer.transform(X_test['text'])\n"
   ]
  },
  {
   "cell_type": "markdown",
   "id": "2c2b5e3b",
   "metadata": {},
   "source": [
    "- ### Vedor\n"
   ]
  },
  {
   "cell_type": "code",
   "execution_count": 10,
   "id": "ac4e4a8f",
   "metadata": {},
   "outputs": [],
   "source": [
    "from nltk.sentiment.vader import SentimentIntensityAnalyzer as SIA\n",
    "def get_vedor_scores(data):\n",
    "    sid=SIA()\n",
    "    vedor_df=data.copy()\n",
    "    vedor_df['scores'] = vedor_df['text'].apply(lambda txt: sid.polarity_scores(str(txt)))\n",
    "    \n",
    "    vedor_df['neg_score'] = vedor_df['scores'].apply(lambda txt: txt['neg'])\n",
    "    vedor_df['neu_score'] =vedor_df['scores'].apply(lambda txt: txt['neu'])\n",
    "    vedor_df['pos_score'] = vedor_df['scores'].apply(lambda txt: txt['pos'])\n",
    "    vedor_df['compound'] = vedor_df['scores'].apply(lambda txt: txt['compound'])\n",
    "    vedor_df.drop('scores', axis=1, inplace=True)\n",
    "    vedor_df.drop('text', axis=1, inplace=True)\n",
    "    return vedor_df\n"
   ]
  },
  {
   "cell_type": "code",
   "execution_count": 11,
   "id": "02f3ef71",
   "metadata": {},
   "outputs": [],
   "source": [
    "X_vedor_train = get_vedor_scores(X_train)\n",
    "X_vedor_test= get_vedor_scores(X_test)"
   ]
  },
  {
   "cell_type": "markdown",
   "id": "ade8f936",
   "metadata": {},
   "source": [
    "## Feature Selection"
   ]
  },
  {
   "cell_type": "code",
   "execution_count": 12,
   "id": "7808061b",
   "metadata": {},
   "outputs": [],
   "source": [
    "from sklearn.svm import LinearSVC\n",
    "from sklearn.feature_selection import SelectFromModel\n",
    "\n",
    "# We Can select any model but linearSVC has l1 norm penality which deals with sparse\n",
    "lsvc = LinearSVC(C=100, penalty='l1', max_iter=500, dual=False)\n",
    "lsvc.fit(X_tfidf_train, y_train)\n",
    "\n",
    "# This function select the best features that has high weigh\n",
    "fs = SelectFromModel(lsvc, prefit=True)\n",
    "# This function redeuce X to the selected features\n",
    "X_selection = fs.transform(X_tfidf_train)\n",
    "X_test_selection = fs.transform(X_tfidf_test)\n",
    "\n",
    "\n",
    "lsvc.fit(X_tfidf_train_n12, y_train)\n",
    "fs_n12 = SelectFromModel(lsvc, prefit=True)\n",
    "X_selection_n12 = fs_n12.transform(X_tfidf_train_n12)\n",
    "X_test_selection_n12 = fs_n12.transform(X_tfidf_test_n12)\n",
    "\n",
    "lsvc.fit(X_bow_train, y_train)\n",
    "fs_n12 = SelectFromModel(lsvc, prefit=True)\n",
    "X_selection_bow = fs_n12.transform(X_bow_train)\n",
    "X_test_selection_bow = fs_n12.transform(X_bow_test)\n"
   ]
  },
  {
   "cell_type": "markdown",
   "id": "ab3f0768",
   "metadata": {},
   "source": [
    "### plotting results function "
   ]
  },
  {
   "cell_type": "code",
   "execution_count": 13,
   "id": "7fc0e222",
   "metadata": {},
   "outputs": [],
   "source": [
    "import matplotlib.pyplot as plt\n",
    "def plot_results(data):\n",
    "    \n",
    "    barWidth = 0.15\n",
    "    # set heights of bars\n",
    "\n",
    "    bars1 = [data[0][1],data[1][1], data[2][1]]\n",
    "    bars2 = [data[0][2], data[1][2], data[2][2]]\n",
    "    bars3 = [data[0][3], data[1][3], data[2][3]]\n",
    "    bars4 = [data[0][4], data[1][4], data[2][4]]\n",
    "    \n",
    "\n",
    "    # Set position of bar on X axis\n",
    "    r1 = np.arange(len(bars1))\n",
    "    r2 = [x + barWidth for x in r1]\n",
    "    r3 = [x + barWidth for x in r2]\n",
    "    r4 = [x + barWidth for x in r3]\n",
    "    \n",
    "\n",
    "    # Make the plot\n",
    "    plt.bar(r1, bars1, color='r', width=barWidth, edgecolor='white', label='tfidf')\n",
    "    plt.bar(r2, bars2, color='b', width=barWidth, edgecolor='white', label='tfidf_n12')\n",
    "    plt.bar(r3, bars3, color='#2d7f5e', width=barWidth, edgecolor='white', label='bow')\n",
    "    plt.bar(r4, bars4, color='#9a7f5e', width=barWidth, edgecolor='white', label='vedor')\n",
    "    \n",
    "\n",
    "    # Add xticks on the middle of the group bars\n",
    "    plt.xlabel('group', fontweight='bold')\n",
    "    plt.xticks([r + barWidth for r in range(len(bars1))], ['precision', 'recall', 'f1-score'])\n",
    "\n",
    "    # Create legend & Show graphic\n",
    "    plt.legend()\n",
    "    plt.grid()\n",
    "    plt.show()"
   ]
  },
  {
   "cell_type": "markdown",
   "id": "bc96af4c",
   "metadata": {},
   "source": [
    "##  Using LinearSVC"
   ]
  },
  {
   "cell_type": "code",
   "execution_count": 14,
   "id": "00aa04da",
   "metadata": {},
   "outputs": [],
   "source": [
    "lsvc = LinearSVC(C=1000, penalty='l1', max_iter=500, dual=False)\n",
    "lsvc.fit(X_selection, y_train)\n",
    "y_predict_tfidf = lsvc.predict(X_test_selection)\n",
    "\n",
    "lsvc.fit(X_selection_n12,y_train)\n",
    "y_predict_tfidf_n12 = lsvc.predict(X_test_selection_n12)\n",
    "\n",
    "lsvc.fit(X_selection_bow,y_train)\n",
    "y_predict_bow = lsvc.predict(X_test_selection_bow)\n",
    "\n",
    "lsvc.fit(X_vedor_train,y_train)\n",
    "y_predict_vedor = lsvc.predict(X_vedor_test)\n",
    "\n",
    "# print(metrics.classification_report(y_test, y_predict_1, target_names=['Suicide', 'Non-Suicide']))\n",
    "linear_svm_tfidf_results=metrics.precision_recall_fscore_support(y_test, y_predict_tfidf)\n",
    "linear_svm_tfidf_n12_results=metrics.precision_recall_fscore_support(y_test, y_predict_tfidf_n12)\n",
    "linear_svm_bow_results=metrics.precision_recall_fscore_support(y_test, y_predict_bow)\n",
    "vedor_svm_results=metrics.precision_recall_fscore_support(y_test, y_predict_vedor)"
   ]
  },
  {
   "cell_type": "code",
   "execution_count": 15,
   "id": "b685f44f",
   "metadata": {},
   "outputs": [],
   "source": [
    "data1 = [['TF-IDF','TF-IDF 2-grams ','bag of words','vedor'],\n",
    "         ['precision',linear_svm_tfidf_results[0][0],linear_svm_tfidf_n12_results[0][0],linear_svm_bow_results[0][0],\n",
    "          vedor_svm_results[0][0]],\n",
    "         ['recall',linear_svm_tfidf_results[1][0],linear_svm_tfidf_n12_results[1][0],linear_svm_bow_results[1][0],\n",
    "          vedor_svm_results[1][0]],\n",
    "         ['F1-score',linear_svm_tfidf_results[2][0],linear_svm_tfidf_n12_results[2][0],linear_svm_bow_results[2][0],\n",
    "          vedor_svm_results[2][0]]]"
   ]
  },
  {
   "cell_type": "code",
   "execution_count": 16,
   "id": "0b309c62",
   "metadata": {},
   "outputs": [
    {
     "name": "stdout",
     "output_type": "stream",
     "text": [
      "╒═══════════╤══════════╤═══════════════════╤════════════════╤══════════╕\n",
      "│           │   TF-IDF │   TF-IDF 2-grams  │   bag of words │    vedor │\n",
      "╞═══════════╪══════════╪═══════════════════╪════════════════╪══════════╡\n",
      "│ precision │ 0.892518 │          0.89866  │       0.870655 │ 0.688018 │\n",
      "├───────────┼──────────┼───────────────────┼────────────────┼──────────┤\n",
      "│ recall    │ 0.85641  │          0.879202 │       0.870655 │ 0.709972 │\n",
      "├───────────┼──────────┼───────────────────┼────────────────┼──────────┤\n",
      "│ F1-score  │ 0.874091 │          0.888825 │       0.870655 │ 0.698822 │\n",
      "╘═══════════╧══════════╧═══════════════════╧════════════════╧══════════╛\n"
     ]
    }
   ],
   "source": [
    "print(tabulate(data1,headers='firstrow',tablefmt='fancy_grid'))"
   ]
  },
  {
   "cell_type": "code",
   "execution_count": 17,
   "id": "48faa56d",
   "metadata": {},
   "outputs": [
    {
     "data": {
      "image/png": "[encoded data removed]",
      "text/plain": [
       "<Figure size 432x288 with 1 Axes>"
      ]
     },
     "metadata": {
      "needs_background": "light"
     },
     "output_type": "display_data"
    }
   ],
   "source": [
    "plot_results(data1[1:])"
   ]
  },
  {
   "cell_type": "markdown",
   "id": "e7684383",
   "metadata": {},
   "source": [
    "## Using RandomForest"
   ]
  },
  {
   "cell_type": "code",
   "execution_count": 18,
   "id": "2b1d3843",
   "metadata": {},
   "outputs": [],
   "source": [
    "clf = RandomForestClassifier(max_depth=10)\n",
    "clf.fit(X_selection, y_train)\n",
    "y_predict_tfidf_2 = clf.predict(X_test_selection)\n",
    "\n",
    "clf.fit(X_selection_n12, y_train)\n",
    "y_predict_tfidf_n12_2 = clf.predict(X_test_selection_n12)\n",
    "\n",
    "clf.fit(X_selection_bow, y_train)\n",
    "y_predict_bow_2 = clf.predict(X_test_selection_bow)\n",
    "\n",
    "clf.fit(X_vedor_train, y_train)\n",
    "y_predict_vedor_2 = clf.predict(X_vedor_test)"
   ]
  },
  {
   "cell_type": "code",
   "execution_count": 19,
   "id": "8c4b3544",
   "metadata": {},
   "outputs": [],
   "source": [
    "RandomForest_tfidf_results=metrics.precision_recall_fscore_support(y_test, y_predict_tfidf_2)\n",
    "RandomForest_tfidf_n12_results=metrics.precision_recall_fscore_support(y_test, y_predict_tfidf_n12_2)\n",
    "RandomForest_bow_results=metrics.precision_recall_fscore_support(y_test, y_predict_bow_2)\n",
    "RandomForest_vedor_results=metrics.precision_recall_fscore_support(y_test, y_predict_vedor_2)\n",
    "# print(metrics.classification_report(y_test, y_predict_2, target_names=['Suicide', 'Non-Suicide']))"
   ]
  },
  {
   "cell_type": "code",
   "execution_count": 20,
   "id": "3225e7d3",
   "metadata": {},
   "outputs": [],
   "source": [
    "data2 = [['TF-IDF','TF-IDF 2-grams ','bag of words','vedor'],\n",
    "         ['precision',RandomForest_tfidf_results[0][0],RandomForest_tfidf_n12_results[0][0],RandomForest_bow_results[0][0],\n",
    "          RandomForest_vedor_results[0][0]],\n",
    "         ['recall',RandomForest_tfidf_results[1][0],RandomForest_tfidf_n12_results[1][0],RandomForest_bow_results[1][0],\n",
    "          RandomForest_vedor_results[1][0]],\n",
    "         ['F1-score',RandomForest_tfidf_results[2][0],RandomForest_tfidf_n12_results[2][0],RandomForest_bow_results[2][0],\n",
    "          RandomForest_vedor_results[2][0]]]"
   ]
  },
  {
   "cell_type": "code",
   "execution_count": 21,
   "id": "4ec07449",
   "metadata": {},
   "outputs": [
    {
     "name": "stdout",
     "output_type": "stream",
     "text": [
      "╒═══════════╤══════════╤═══════════════════╤════════════════╤══════════╕\n",
      "│           │   TF-IDF │   TF-IDF 2-grams  │   bag of words │    vedor │\n",
      "╞═══════════╪══════════╪═══════════════════╪════════════════╪══════════╡\n",
      "│ precision │ 0.818088 │          0.813629 │       0.814146 │ 0.783493 │\n",
      "├───────────┼──────────┼───────────────────┼────────────────┼──────────┤\n",
      "│ recall    │ 0.901994 │          0.898006 │       0.898575 │ 0.746439 │\n",
      "├───────────┼──────────┼───────────────────┼────────────────┼──────────┤\n",
      "│ F1-score  │ 0.857995 │          0.853738 │       0.85428  │ 0.764517 │\n",
      "╘═══════════╧══════════╧═══════════════════╧════════════════╧══════════╛\n"
     ]
    }
   ],
   "source": [
    "print(tabulate(data2,headers='firstrow',tablefmt='fancy_grid'))"
   ]
  },
  {
   "cell_type": "code",
   "execution_count": 22,
   "id": "3f565161",
   "metadata": {},
   "outputs": [
    {
     "data": {
      "image/png": "[encoded data removed]",
      "text/plain": [
       "<Figure size 432x288 with 1 Axes>"
      ]
     },
     "metadata": {
      "needs_background": "light"
     },
     "output_type": "display_data"
    }
   ],
   "source": [
    "plot_results(data2[1:])"
   ]
  },
  {
   "cell_type": "markdown",
   "id": "3cc614a3",
   "metadata": {},
   "source": [
    "## Using Ensamble Learning "
   ]
  },
  {
   "cell_type": "code",
   "execution_count": 23,
   "id": "bb2670d5",
   "metadata": {},
   "outputs": [],
   "source": [
    "from sklearn.ensemble import RandomForestClassifier\n",
    "from sklearn.ensemble import VotingClassifier\n",
    "from sklearn.linear_model import LogisticRegression,  SGDClassifier\n",
    "from sklearn.svm import SVC"
   ]
  },
  {
   "cell_type": "code",
   "execution_count": 24,
   "id": "b9f910cd",
   "metadata": {},
   "outputs": [],
   "source": [
    "log_clf = LogisticRegression(solver=\"lbfgs\")\n",
    "rnd_clf = RandomForestClassifier(n_estimators=100)\n",
    "svm_clf = SVC(gamma=\"scale\", probability=True)\n",
    "# mb = MultinomialNB()\n",
    "sgd = SGDClassifier(alpha=.0001, max_iter=50, loss='log',\n",
    "                                       penalty=\"elasticnet\", n_jobs=-1)\n",
    "\n",
    "voting_clf = VotingClassifier(\n",
    "estimators=[('lr', log_clf), ('rf', rnd_clf), ('svc', svm_clf),('sgd', sgd)],\n",
    "voting='soft')\n",
    "\n"
   ]
  },
  {
   "cell_type": "code",
   "execution_count": 25,
   "id": "8ebf4fd5",
   "metadata": {},
   "outputs": [],
   "source": [
    "voting_clf.fit(X_selection, y_train)\n",
    "y_predict_tfidf_4 = voting_clf.predict(X_test_selection)\n",
    "\n",
    "voting_clf.fit(X_selection_n12, y_train)\n",
    "y_predict_tfidf_n12_4 = voting_clf.predict(X_test_selection_n12)\n",
    "\n",
    "voting_clf.fit(X_selection_bow, y_train)\n",
    "y_predict_bow_4 = voting_clf.predict(X_test_selection_bow)\n",
    "\n",
    "voting_clf.fit(X_vedor_train, y_train)\n",
    "y_predict_vedor_4 = voting_clf.predict(X_vedor_test)"
   ]
  },
  {
   "cell_type": "code",
   "execution_count": 26,
   "id": "20d29bb2",
   "metadata": {},
   "outputs": [],
   "source": [
    "# print(metrics.classification_report(y_test, y_predict_4, target_names=['Suicide', 'Non-Suicide']))\n",
    "mb_tfidf_results=metrics.precision_recall_fscore_support(y_test, y_predict_tfidf_4)\n",
    "mb_tfidf_n12_results=metrics.precision_recall_fscore_support(y_test, y_predict_tfidf_n12_4)\n",
    "mb_bow_results=metrics.precision_recall_fscore_support(y_test, y_predict_bow_4)\n",
    "mb_vedor_results=metrics.precision_recall_fscore_support(y_test, y_predict_vedor_4)"
   ]
  },
  {
   "cell_type": "code",
   "execution_count": 28,
   "id": "21c3e4d9",
   "metadata": {},
   "outputs": [],
   "source": [
    "data3= [['TF-IDF','TF-IDF 2-grams ','bag of words','vedor'],\n",
    "        ['precision',mb_tfidf_results[0][0],mb_tfidf_n12_results[0][0],mb_bow_results[0][0],\n",
    "          mb_vedor_results[0][0]],\n",
    "         ['recall',mb_tfidf_results[1][0],mb_tfidf_n12_results[1][0],mb_bow_results[1][0],\n",
    "          mb_vedor_results[1][0]],\n",
    "         ['F1-score',mb_tfidf_results[2][0],mb_tfidf_n12_results[2][0],mb_bow_results[2][0],\n",
    "          mb_vedor_results[2][0]]]"
   ]
  },
  {
   "cell_type": "code",
   "execution_count": 29,
   "id": "6f6cfd6b",
   "metadata": {},
   "outputs": [
    {
     "name": "stdout",
     "output_type": "stream",
     "text": [
      "╒═══════════╤══════════╤═══════════════════╤════════════════╤══════════╕\n",
      "│           │   TF-IDF │   TF-IDF 2-grams  │   bag of words │    vedor │\n",
      "╞═══════════╪══════════╪═══════════════════╪════════════════╪══════════╡\n",
      "│ precision │ 0.91255  │          0.91719  │       0.886875 │ 0.748023 │\n",
      "├───────────┼──────────┼───────────────────┼────────────────┼──────────┤\n",
      "│ recall    │ 0.91567  │          0.9151   │       0.920228 │ 0.754416 │\n",
      "├───────────┼──────────┼───────────────────┼────────────────┼──────────┤\n",
      "│ F1-score  │ 0.914107 │          0.916144 │       0.903244 │ 0.751206 │\n",
      "╘═══════════╧══════════╧═══════════════════╧════════════════╧══════════╛\n"
     ]
    }
   ],
   "source": [
    "print(tabulate(data3,headers='firstrow',tablefmt='fancy_grid'))"
   ]
  },
  {
   "cell_type": "code",
   "execution_count": 30,
   "id": "6873883a",
   "metadata": {},
   "outputs": [
    {
     "data": {
      "image/png": "[encoded data removed]",
      "text/plain": [
       "<Figure size 432x288 with 1 Axes>"
      ]
     },
     "metadata": {
      "needs_background": "light"
     },
     "output_type": "display_data"
    }
   ],
   "source": [
    "plot_results(data3[1:])"
   ]
  },
  {
   "cell_type": "markdown",
   "id": "b65fb5a9",
   "metadata": {},
   "source": [
    "## Using Bagging Method"
   ]
  },
  {
   "cell_type": "code",
   "execution_count": 31,
   "id": "3a7b423e",
   "metadata": {},
   "outputs": [],
   "source": [
    "from sklearn.ensemble import BaggingClassifier\n",
    "from sklearn.tree import DecisionTreeClassifier\n",
    "bag_clf = BaggingClassifier(\n",
    "DecisionTreeClassifier(), n_estimators=500,\n",
    "max_samples=100, bootstrap=True, n_jobs=-1)\n",
    "\n",
    "bag_clf.fit(X_selection, y_train)\n",
    "y_pred_5 = bag_clf.predict(X_test_selection)\n",
    "\n",
    "bag_clf.fit(X_selection_n12, y_train)\n",
    "y_pred_n12_5 = bag_clf.predict(X_test_selection_n12)\n",
    "\n",
    "bag_clf.fit(X_selection_bow, y_train)\n",
    "y_pred_bow_5 = bag_clf.predict(X_test_selection_bow)\n",
    "\n",
    "bag_clf.fit(X_vedor_train, y_train)\n",
    "y_pred_vedor_5 = bag_clf.predict(X_vedor_test)\n",
    "# print(metrics.classification_report(y_test, y_pred_5, target_names=['Suicide', 'Non-Suicide']))"
   ]
  },
  {
   "cell_type": "code",
   "execution_count": 32,
   "id": "8ddf05d4",
   "metadata": {},
   "outputs": [],
   "source": [
    "bag_tfidf_results=metrics.precision_recall_fscore_support(y_test, y_pred_5)\n",
    "bag_tfidf_n12_results=metrics.precision_recall_fscore_support(y_test, y_pred_n12_5)\n",
    "bag_bow_results=metrics.precision_recall_fscore_support(y_test, y_pred_bow_5)\n",
    "bag_vedor_results=metrics.precision_recall_fscore_support(y_test, y_pred_vedor_5)"
   ]
  },
  {
   "cell_type": "code",
   "execution_count": 33,
   "id": "fe6b16b1",
   "metadata": {},
   "outputs": [],
   "source": [
    "data4= [['TF-IDF','TF-IDF 2-grams ','bag of words','vedor'],\n",
    "        ['precision',bag_tfidf_results[0][0],bag_tfidf_n12_results[0][0],bag_bow_results[0][0],\n",
    "          bag_vedor_results[0][0]],\n",
    "         ['recall',bag_tfidf_results[1][0],bag_tfidf_n12_results[1][0],bag_bow_results[1][0],\n",
    "          bag_vedor_results[1][0]],\n",
    "         ['F1-score',bag_tfidf_results[2][0],bag_tfidf_n12_results[2][0],bag_bow_results[2][0],\n",
    "          bag_vedor_results[2][0]]]"
   ]
  },
  {
   "cell_type": "code",
   "execution_count": 34,
   "id": "d6df635d",
   "metadata": {},
   "outputs": [
    {
     "name": "stdout",
     "output_type": "stream",
     "text": [
      "╒═══════════╤══════════╤═══════════════════╤════════════════╤══════════╕\n",
      "│           │   TF-IDF │   TF-IDF 2-grams  │   bag of words │    vedor │\n",
      "╞═══════════╪══════════╪═══════════════════╪════════════════╪══════════╡\n",
      "│ precision │ 0.810073 │          0.80383  │       0.813341 │ 0.786635 │\n",
      "├───────────┼──────────┼───────────────────┼────────────────┼──────────┤\n",
      "│ recall    │ 0.879772 │          0.8849   │       0.861538 │ 0.764672 │\n",
      "├───────────┼──────────┼───────────────────┼────────────────┼──────────┤\n",
      "│ F1-score  │ 0.843485 │          0.842419 │       0.836746 │ 0.775498 │\n",
      "╘═══════════╧══════════╧═══════════════════╧════════════════╧══════════╛\n"
     ]
    }
   ],
   "source": [
    "print(tabulate(data4,headers='firstrow',tablefmt='fancy_grid'))"
   ]
  },
  {
   "cell_type": "code",
   "execution_count": 35,
   "id": "ccce078b",
   "metadata": {},
   "outputs": [
    {
     "data": {
      "image/png": "[encoded data removed]",
      "text/plain": [
       "<Figure size 432x288 with 1 Axes>"
      ]
     },
     "metadata": {
      "needs_background": "light"
     },
     "output_type": "display_data"
    }
   ],
   "source": [
    "plot_results(data4[1:])"
   ]
  }
 ],
 "metadata": {
  "kernelspec": {
   "display_name": "Python 3 (ipykernel)",
   "language": "python",
   "name": "python3"
  },
  "language_info": {
   "codemirror_mode": {
    "name": "ipython",
    "version": 3
   },
   "file_extension": ".py",
   "mimetype": "text/x-python",
   "name": "python",
   "nbconvert_exporter": "python",
   "pygments_lexer": "ipython3",
   "version": "3.9.10"
  }
 },
 "nbformat": 4,
 "nbformat_minor": 5
}
